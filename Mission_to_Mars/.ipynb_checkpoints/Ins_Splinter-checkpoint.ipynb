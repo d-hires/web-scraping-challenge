{
 "cells": [
  {
   "cell_type": "code",
   "execution_count": 1,
   "metadata": {},
   "outputs": [],
   "source": [
    "from splinter import Browser\n",
    "from bs4 import BeautifulSoup"
   ]
  },
  {
   "cell_type": "code",
   "execution_count": 5,
   "metadata": {},
   "outputs": [],
   "source": [
    "executable_path = {'executable_path': 'c:\\chromedriver\\chromedriver.exe'}\n",
    "browser = Browser('chrome', **executable_path, headless=False)"
   ]
  },
  {
   "cell_type": "code",
   "execution_count": 6,
   "metadata": {},
   "outputs": [],
   "source": [
    "url = 'http://quotes.toscrape.com/'\n",
    "browser.visit(url)"
   ]
  },
  {
   "cell_type": "code",
   "execution_count": 7,
   "metadata": {},
   "outputs": [
    {
     "name": "stdout",
     "output_type": "stream",
     "text": [
      "<span class=\"text\" itemprop=\"text\">“The world as we have created it is a process of our thinking. It cannot be changed without changing our thinking.”</span>\n",
      "<span class=\"text\" itemprop=\"text\">“It is our choices, Harry, that show what we truly are, far more than our abilities.”</span>\n",
      "<span class=\"text\" itemprop=\"text\">“There are only two ways to live your life. One is as though nothing is a miracle. The other is as though everything is a miracle.”</span>\n",
      "<span class=\"text\" itemprop=\"text\">“The person, be it gentleman or lady, who has not pleasure in a good novel, must be intolerably stupid.”</span>\n",
      "<span class=\"text\" itemprop=\"text\">“Imperfection is beauty, madness is genius and it's better to be absolutely ridiculous than absolutely boring.”</span>\n",
      "<span class=\"text\" itemprop=\"text\">“Try not to become a man of success. Rather become a man of value.”</span>\n",
      "<span class=\"text\" itemprop=\"text\">“It is better to be hated for what you are than to be loved for what you are not.”</span>\n",
      "<span class=\"text\" itemprop=\"text\">“I have not failed. I've just found 10,000 ways that won't work.”</span>\n",
      "<span class=\"text\" itemprop=\"text\">“A woman is like a tea bag; you never know how strong it is until it's in hot water.”</span>\n",
      "<span class=\"text\" itemprop=\"text\">“A day without sunshine is like, you know, night.”</span>\n",
      "<span class=\"text\" itemprop=\"text\">“This life is what you make it. No matter what, you're going to mess up sometimes, it's a universal truth. But the good part is you get to decide how you're going to mess it up. Girls will be your friends - they'll act like it anyway. But just remember, some come, some go. The ones that stay with you through everything - they're your true best friends. Don't let go of them. Also remember, sisters make the best friends in the world. As for lovers, well, they'll come and go too. And baby, I hate to say it, most of them - actually pretty much all of them are going to break your heart, but you can't give up because if you give up, you'll never find your soulmate. You'll never find that half who makes you whole and that goes for everything. Just because you fail once, doesn't mean you're gonna fail at everything. Keep trying, hold on, and always, always, always believe in yourself, because if you don't, then who will, sweetie? So keep your head high, keep your chin up, and most importantly, keep smiling, because life's a beautiful thing and there's so much to smile about.”</span>\n",
      "<span class=\"text\" itemprop=\"text\">“It takes a great deal of bravery to stand up to our enemies, but just as much to stand up to our friends.”</span>\n",
      "<span class=\"text\" itemprop=\"text\">“If you can't explain it to a six year old, you don't understand it yourself.”</span>\n",
      "<span class=\"text\" itemprop=\"text\">“You may not be her first, her last, or her only. She loved before she may love again. But if she loves you now, what else matters? She's not perfect—you aren't either, and the two of you may never be perfect together but if she can make you laugh, cause you to think twice, and admit to being human and making mistakes, hold onto her and give her the most you can. She may not be thinking about you every second of the day, but she will give you a part of her that she knows you can break—her heart. So don't hurt her, don't change her, don't analyze and don't expect more than she can give. Smile when she makes you happy, let her know when she makes you mad, and miss her when she's not there.”</span>\n",
      "<span class=\"text\" itemprop=\"text\">“I like nonsense, it wakes up the brain cells. Fantasy is a necessary ingredient in living.”</span>\n",
      "<span class=\"text\" itemprop=\"text\">“I may not have gone where I intended to go, but I think I have ended up where I needed to be.”</span>\n",
      "<span class=\"text\" itemprop=\"text\">“The opposite of love is not hate, it's indifference. The opposite of art is not ugliness, it's indifference. The opposite of faith is not heresy, it's indifference. And the opposite of life is not death, it's indifference.”</span>\n",
      "<span class=\"text\" itemprop=\"text\">“It is not a lack of love, but a lack of friendship that makes unhappy marriages.”</span>\n",
      "<span class=\"text\" itemprop=\"text\">“Good friends, good books, and a sleepy conscience: this is the ideal life.”</span>\n",
      "<span class=\"text\" itemprop=\"text\">“Life is what happens to us while we are making other plans.”</span>\n",
      "<span class=\"text\" itemprop=\"text\">“I love you without knowing how, or when, or from where. I love you simply, without problems or pride: I love you in this way because I do not know any other way of loving but this, in which there is no I or you, so intimate that your hand upon my chest is my hand, so intimate that when I fall asleep your eyes close.”</span>\n",
      "<span class=\"text\" itemprop=\"text\">“For every minute you are angry you lose sixty seconds of happiness.”</span>\n",
      "<span class=\"text\" itemprop=\"text\">“If you judge people, you have no time to love them.”</span>\n",
      "<span class=\"text\" itemprop=\"text\">“Anyone who thinks sitting in church can make you a Christian must also think that sitting in a garage can make you a car.”</span>\n",
      "<span class=\"text\" itemprop=\"text\">“Beauty is in the eye of the beholder and it may be necessary from time to time to give a stupid or misinformed beholder a black eye.”</span>\n",
      "<span class=\"text\" itemprop=\"text\">“Today you are You, that is truer than true. There is no one alive who is Youer than You.”</span>\n",
      "<span class=\"text\" itemprop=\"text\">“If you want your children to be intelligent, read them fairy tales. If you want them to be more intelligent, read them more fairy tales.”</span>\n",
      "<span class=\"text\" itemprop=\"text\">“It is impossible to live without failing at something, unless you live so cautiously that you might as well not have lived at all - in which case, you fail by default.”</span>\n",
      "<span class=\"text\" itemprop=\"text\">“Logic will get you from A to Z; imagination will get you everywhere.”</span>\n",
      "<span class=\"text\" itemprop=\"text\">“One good thing about music, when it hits you, you feel no pain.”</span>\n",
      "<span class=\"text\" itemprop=\"text\">“The more that you read, the more things you will know. The more that you learn, the more places you'll go.”</span>\n",
      "<span class=\"text\" itemprop=\"text\">“Of course it is happening inside your head, Harry, but why on earth should that mean that it is not real?”</span>\n",
      "<span class=\"text\" itemprop=\"text\">“The truth is, everyone is going to hurt you. You just got to find the ones worth suffering for.”</span>\n",
      "<span class=\"text\" itemprop=\"text\">“Not all of us can do great things. But we can do small things with great love.”</span>\n",
      "<span class=\"text\" itemprop=\"text\">“To the well-organized mind, death is but the next great adventure.”</span>\n",
      "<span class=\"text\" itemprop=\"text\">“All you need is love. But a little chocolate now and then doesn't hurt.”</span>\n",
      "<span class=\"text\" itemprop=\"text\">“We read to know we're not alone.”</span>\n",
      "<span class=\"text\" itemprop=\"text\">“Any fool can know. The point is to understand.”</span>\n",
      "<span class=\"text\" itemprop=\"text\">“I have always imagined that Paradise will be a kind of library.”</span>\n",
      "<span class=\"text\" itemprop=\"text\">“It is never too late to be what you might have been.”</span>\n",
      "<span class=\"text\" itemprop=\"text\">“A reader lives a thousand lives before he dies, said Jojen. The man who never reads lives only one.”</span>\n",
      "<span class=\"text\" itemprop=\"text\">“You can never get a cup of tea large enough or a book long enough to suit me.”</span>\n",
      "<span class=\"text\" itemprop=\"text\">“You believe lies so you eventually learn to trust no one but yourself.”</span>\n",
      "<span class=\"text\" itemprop=\"text\">“If you can make a woman laugh, you can make her do anything.”</span>\n",
      "<span class=\"text\" itemprop=\"text\">“Life is like riding a bicycle. To keep your balance, you must keep moving.”</span>\n",
      "<span class=\"text\" itemprop=\"text\">“The real lover is the man who can thrill you by kissing your forehead or smiling into your eyes or just staring into space.”</span>\n",
      "<span class=\"text\" itemprop=\"text\">“A wise girl kisses but doesn't love, listens but doesn't believe, and leaves before she is left.”</span>\n",
      "<span class=\"text\" itemprop=\"text\">“Only in the darkness can you see the stars.”</span>\n",
      "<span class=\"text\" itemprop=\"text\">“It matters not what someone is born, but what they grow to be.”</span>\n",
      "<span class=\"text\" itemprop=\"text\">“Love does not begin and end the way we seem to think it does. Love is a battle, love is a war; love is a growing up.”</span>\n"
     ]
    }
   ],
   "source": [
    "# for x in range(1, 6):\n",
    "\n",
    "html = browser.html\n",
    "soup = BeautifulSoup(html, 'html.parser')\n",
    "\n",
    "#     quotes = soup.find_all('span', class_='text')\n",
    "\n",
    "#     for quote in quotes:\n",
    "#         print('page:', x, '-------------')\n",
    "#         print(quote.text)\n",
    "\n",
    "browser.links.find_by_partial_text('Next').click()"
   ]
  },
  {
   "cell_type": "code",
   "execution_count": null,
   "metadata": {},
   "outputs": [],
   "source": [
    "browser.quit()"
   ]
  },
  {
   "cell_type": "code",
   "execution_count": null,
   "metadata": {},
   "outputs": [],
   "source": []
  }
 ],
 "metadata": {
  "kernelspec": {
   "display_name": "Python 3",
   "language": "python",
   "name": "python3"
  },
  "language_info": {
   "codemirror_mode": {
    "name": "ipython",
    "version": 3
   },
   "file_extension": ".py",
   "mimetype": "text/x-python",
   "name": "python",
   "nbconvert_exporter": "python",
   "pygments_lexer": "ipython3",
   "version": "3.7.6"
  },
  "varInspector": {
   "cols": {
    "lenName": 16,
    "lenType": 16,
    "lenVar": 40
   },
   "kernels_config": {
    "python": {
     "delete_cmd_postfix": "",
     "delete_cmd_prefix": "del ",
     "library": "var_list.py",
     "varRefreshCmd": "print(var_dic_list())"
    },
    "r": {
     "delete_cmd_postfix": ") ",
     "delete_cmd_prefix": "rm(",
     "library": "var_list.r",
     "varRefreshCmd": "cat(var_dic_list()) "
    }
   },
   "types_to_exclude": [
    "module",
    "function",
    "builtin_function_or_method",
    "instance",
    "_Feature"
   ],
   "window_display": false
  }
 },
 "nbformat": 4,
 "nbformat_minor": 2
}
